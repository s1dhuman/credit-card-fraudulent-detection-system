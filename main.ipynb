{
 "cells": [
  {
   "cell_type": "markdown",
   "id": "55d1fc5d",
   "metadata": {},
   "source": [
    "# CREDIT CARD FRAUD DETECTION SYSTEM"
   ]
  },
  {
   "cell_type": "markdown",
   "id": "b699c728",
   "metadata": {},
   "source": [
    "## importing all the libraries needed"
   ]
  },
  {
   "cell_type": "code",
   "execution_count": 1,
   "id": "97b49a66",
   "metadata": {},
   "outputs": [],
   "source": [
    "import numpy as np # linear algebra\n",
    "import pandas as pd # data processing, CSV file I/O (e.g. pd.read_csv)\n",
    "\n",
    "# For Data Viz. \n",
    "import matplotlib.pyplot as plt \n",
    "import seaborn as sns \n",
    "\n",
    "# For Warnings. \n",
    "import warnings \n",
    "warnings.filterwarnings('ignore')\n",
    "\n",
    "# Setting up options. \n",
    "pd.set_option('display.max_rows' , None)\n",
    "pd.set_option('display.max_columns',None)\n",
    "\n",
    "# For Scaling \n",
    "from sklearn.preprocessing import StandardScaler \n",
    "\n",
    "# Train-Test Splitting. \n",
    "from sklearn.model_selection import train_test_split \n",
    "\n",
    "# For Pipelines \n",
    "from sklearn.pipeline import Pipeline \n",
    "\n",
    "# Model Building \n",
    "from sklearn.linear_model import LogisticRegression \n",
    "from sklearn.tree import DecisionTreeClassifier \n",
    "from sklearn.ensemble import RandomForestClassifier , AdaBoostClassifier , GradientBoostingClassifier\n",
    "from sklearn.svm import SVC , LinearSVC \n",
    "\n",
    "# Metric Evaluation. \n",
    "from sklearn.metrics import accuracy_score , classification_report , confusion_matrix \n",
    "\n",
    "import os\n",
    "for dirname, _, filenames in os.walk('/kaggle/input'):\n",
    "    for filename in filenames:\n",
    "        print(os.path.join(dirname, filename))"
   ]
  },
  {
   "cell_type": "markdown",
   "id": "2ebf638e",
   "metadata": {},
   "source": [
    "# About dataset"
   ]
  },
  {
   "cell_type": "code",
   "execution_count": 2,
   "id": "ed55c534",
   "metadata": {},
   "outputs": [
    {
     "data": {
      "text/html": [
       "<div>\n",
       "<style scoped>\n",
       "    .dataframe tbody tr th:only-of-type {\n",
       "        vertical-align: middle;\n",
       "    }\n",
       "\n",
       "    .dataframe tbody tr th {\n",
       "        vertical-align: top;\n",
       "    }\n",
       "\n",
       "    .dataframe thead th {\n",
       "        text-align: right;\n",
       "    }\n",
       "</style>\n",
       "<table border=\"1\" class=\"dataframe\">\n",
       "  <thead>\n",
       "    <tr style=\"text-align: right;\">\n",
       "      <th></th>\n",
       "      <th>id</th>\n",
       "      <th>V1</th>\n",
       "      <th>V2</th>\n",
       "      <th>V3</th>\n",
       "      <th>V4</th>\n",
       "      <th>V5</th>\n",
       "      <th>V6</th>\n",
       "      <th>V7</th>\n",
       "      <th>V8</th>\n",
       "      <th>V9</th>\n",
       "      <th>V10</th>\n",
       "      <th>V11</th>\n",
       "      <th>V12</th>\n",
       "      <th>V13</th>\n",
       "      <th>V14</th>\n",
       "      <th>V15</th>\n",
       "      <th>V16</th>\n",
       "      <th>V17</th>\n",
       "      <th>V18</th>\n",
       "      <th>V19</th>\n",
       "      <th>V20</th>\n",
       "      <th>V21</th>\n",
       "      <th>V22</th>\n",
       "      <th>V23</th>\n",
       "      <th>V24</th>\n",
       "      <th>V25</th>\n",
       "      <th>V26</th>\n",
       "      <th>V27</th>\n",
       "      <th>V28</th>\n",
       "      <th>Amount</th>\n",
       "      <th>Class</th>\n",
       "    </tr>\n",
       "  </thead>\n",
       "  <tbody>\n",
       "    <tr>\n",
       "      <th>0</th>\n",
       "      <td>0</td>\n",
       "      <td>-0.260648</td>\n",
       "      <td>-0.469648</td>\n",
       "      <td>2.496266</td>\n",
       "      <td>-0.083724</td>\n",
       "      <td>0.129681</td>\n",
       "      <td>0.732898</td>\n",
       "      <td>0.519014</td>\n",
       "      <td>-0.130006</td>\n",
       "      <td>0.727159</td>\n",
       "      <td>0.637735</td>\n",
       "      <td>-0.987020</td>\n",
       "      <td>0.293438</td>\n",
       "      <td>-0.941386</td>\n",
       "      <td>0.549020</td>\n",
       "      <td>1.804879</td>\n",
       "      <td>0.215598</td>\n",
       "      <td>0.512307</td>\n",
       "      <td>0.333644</td>\n",
       "      <td>0.124270</td>\n",
       "      <td>0.091202</td>\n",
       "      <td>-0.110552</td>\n",
       "      <td>0.217606</td>\n",
       "      <td>-0.134794</td>\n",
       "      <td>0.165959</td>\n",
       "      <td>0.126280</td>\n",
       "      <td>-0.434824</td>\n",
       "      <td>-0.081230</td>\n",
       "      <td>-0.151045</td>\n",
       "      <td>17982.10</td>\n",
       "      <td>0</td>\n",
       "    </tr>\n",
       "    <tr>\n",
       "      <th>1</th>\n",
       "      <td>1</td>\n",
       "      <td>0.985100</td>\n",
       "      <td>-0.356045</td>\n",
       "      <td>0.558056</td>\n",
       "      <td>-0.429654</td>\n",
       "      <td>0.277140</td>\n",
       "      <td>0.428605</td>\n",
       "      <td>0.406466</td>\n",
       "      <td>-0.133118</td>\n",
       "      <td>0.347452</td>\n",
       "      <td>0.529808</td>\n",
       "      <td>0.140107</td>\n",
       "      <td>1.564246</td>\n",
       "      <td>0.574074</td>\n",
       "      <td>0.627719</td>\n",
       "      <td>0.706121</td>\n",
       "      <td>0.789188</td>\n",
       "      <td>0.403810</td>\n",
       "      <td>0.201799</td>\n",
       "      <td>-0.340687</td>\n",
       "      <td>-0.233984</td>\n",
       "      <td>-0.194936</td>\n",
       "      <td>-0.605761</td>\n",
       "      <td>0.079469</td>\n",
       "      <td>-0.577395</td>\n",
       "      <td>0.190090</td>\n",
       "      <td>0.296503</td>\n",
       "      <td>-0.248052</td>\n",
       "      <td>-0.064512</td>\n",
       "      <td>6531.37</td>\n",
       "      <td>0</td>\n",
       "    </tr>\n",
       "    <tr>\n",
       "      <th>2</th>\n",
       "      <td>2</td>\n",
       "      <td>-0.260272</td>\n",
       "      <td>-0.949385</td>\n",
       "      <td>1.728538</td>\n",
       "      <td>-0.457986</td>\n",
       "      <td>0.074062</td>\n",
       "      <td>1.419481</td>\n",
       "      <td>0.743511</td>\n",
       "      <td>-0.095576</td>\n",
       "      <td>-0.261297</td>\n",
       "      <td>0.690708</td>\n",
       "      <td>-0.272985</td>\n",
       "      <td>0.659201</td>\n",
       "      <td>0.805173</td>\n",
       "      <td>0.616874</td>\n",
       "      <td>3.069025</td>\n",
       "      <td>-0.577514</td>\n",
       "      <td>0.886526</td>\n",
       "      <td>0.239442</td>\n",
       "      <td>-2.366079</td>\n",
       "      <td>0.361652</td>\n",
       "      <td>-0.005020</td>\n",
       "      <td>0.702906</td>\n",
       "      <td>0.945045</td>\n",
       "      <td>-1.154666</td>\n",
       "      <td>-0.605564</td>\n",
       "      <td>-0.312895</td>\n",
       "      <td>-0.300258</td>\n",
       "      <td>-0.244718</td>\n",
       "      <td>2513.54</td>\n",
       "      <td>0</td>\n",
       "    </tr>\n",
       "    <tr>\n",
       "      <th>3</th>\n",
       "      <td>3</td>\n",
       "      <td>-0.152152</td>\n",
       "      <td>-0.508959</td>\n",
       "      <td>1.746840</td>\n",
       "      <td>-1.090178</td>\n",
       "      <td>0.249486</td>\n",
       "      <td>1.143312</td>\n",
       "      <td>0.518269</td>\n",
       "      <td>-0.065130</td>\n",
       "      <td>-0.205698</td>\n",
       "      <td>0.575231</td>\n",
       "      <td>-0.752581</td>\n",
       "      <td>0.737483</td>\n",
       "      <td>0.592994</td>\n",
       "      <td>0.559535</td>\n",
       "      <td>-0.697664</td>\n",
       "      <td>-0.030669</td>\n",
       "      <td>0.242629</td>\n",
       "      <td>2.178616</td>\n",
       "      <td>-1.345060</td>\n",
       "      <td>-0.378223</td>\n",
       "      <td>-0.146927</td>\n",
       "      <td>-0.038212</td>\n",
       "      <td>-0.214048</td>\n",
       "      <td>-1.893131</td>\n",
       "      <td>1.003963</td>\n",
       "      <td>-0.515950</td>\n",
       "      <td>-0.165316</td>\n",
       "      <td>0.048424</td>\n",
       "      <td>5384.44</td>\n",
       "      <td>0</td>\n",
       "    </tr>\n",
       "    <tr>\n",
       "      <th>4</th>\n",
       "      <td>4</td>\n",
       "      <td>-0.206820</td>\n",
       "      <td>-0.165280</td>\n",
       "      <td>1.527053</td>\n",
       "      <td>-0.448293</td>\n",
       "      <td>0.106125</td>\n",
       "      <td>0.530549</td>\n",
       "      <td>0.658849</td>\n",
       "      <td>-0.212660</td>\n",
       "      <td>1.049921</td>\n",
       "      <td>0.968046</td>\n",
       "      <td>-1.203171</td>\n",
       "      <td>1.029577</td>\n",
       "      <td>1.439310</td>\n",
       "      <td>0.241454</td>\n",
       "      <td>0.153008</td>\n",
       "      <td>0.224538</td>\n",
       "      <td>0.366466</td>\n",
       "      <td>0.291782</td>\n",
       "      <td>0.445317</td>\n",
       "      <td>0.247237</td>\n",
       "      <td>-0.106984</td>\n",
       "      <td>0.729727</td>\n",
       "      <td>-0.161666</td>\n",
       "      <td>0.312561</td>\n",
       "      <td>-0.414116</td>\n",
       "      <td>1.071126</td>\n",
       "      <td>0.023712</td>\n",
       "      <td>0.419117</td>\n",
       "      <td>14278.97</td>\n",
       "      <td>0</td>\n",
       "    </tr>\n",
       "  </tbody>\n",
       "</table>\n",
       "</div>"
      ],
      "text/plain": [
       "   id        V1        V2        V3        V4        V5        V6        V7  \\\n",
       "0   0 -0.260648 -0.469648  2.496266 -0.083724  0.129681  0.732898  0.519014   \n",
       "1   1  0.985100 -0.356045  0.558056 -0.429654  0.277140  0.428605  0.406466   \n",
       "2   2 -0.260272 -0.949385  1.728538 -0.457986  0.074062  1.419481  0.743511   \n",
       "3   3 -0.152152 -0.508959  1.746840 -1.090178  0.249486  1.143312  0.518269   \n",
       "4   4 -0.206820 -0.165280  1.527053 -0.448293  0.106125  0.530549  0.658849   \n",
       "\n",
       "         V8        V9       V10       V11       V12       V13       V14  \\\n",
       "0 -0.130006  0.727159  0.637735 -0.987020  0.293438 -0.941386  0.549020   \n",
       "1 -0.133118  0.347452  0.529808  0.140107  1.564246  0.574074  0.627719   \n",
       "2 -0.095576 -0.261297  0.690708 -0.272985  0.659201  0.805173  0.616874   \n",
       "3 -0.065130 -0.205698  0.575231 -0.752581  0.737483  0.592994  0.559535   \n",
       "4 -0.212660  1.049921  0.968046 -1.203171  1.029577  1.439310  0.241454   \n",
       "\n",
       "        V15       V16       V17       V18       V19       V20       V21  \\\n",
       "0  1.804879  0.215598  0.512307  0.333644  0.124270  0.091202 -0.110552   \n",
       "1  0.706121  0.789188  0.403810  0.201799 -0.340687 -0.233984 -0.194936   \n",
       "2  3.069025 -0.577514  0.886526  0.239442 -2.366079  0.361652 -0.005020   \n",
       "3 -0.697664 -0.030669  0.242629  2.178616 -1.345060 -0.378223 -0.146927   \n",
       "4  0.153008  0.224538  0.366466  0.291782  0.445317  0.247237 -0.106984   \n",
       "\n",
       "        V22       V23       V24       V25       V26       V27       V28  \\\n",
       "0  0.217606 -0.134794  0.165959  0.126280 -0.434824 -0.081230 -0.151045   \n",
       "1 -0.605761  0.079469 -0.577395  0.190090  0.296503 -0.248052 -0.064512   \n",
       "2  0.702906  0.945045 -1.154666 -0.605564 -0.312895 -0.300258 -0.244718   \n",
       "3 -0.038212 -0.214048 -1.893131  1.003963 -0.515950 -0.165316  0.048424   \n",
       "4  0.729727 -0.161666  0.312561 -0.414116  1.071126  0.023712  0.419117   \n",
       "\n",
       "     Amount  Class  \n",
       "0  17982.10      0  \n",
       "1   6531.37      0  \n",
       "2   2513.54      0  \n",
       "3   5384.44      0  \n",
       "4  14278.97      0  "
      ]
     },
     "execution_count": 2,
     "metadata": {},
     "output_type": "execute_result"
    }
   ],
   "source": [
    "data_import = pd.read_csv('D:\\Machine Learning\\Credit Card Fraud Detection System\\creditcard_2023.csv')\n",
    "data_import.head()"
   ]
  },
  {
   "cell_type": "code",
   "execution_count": 3,
   "id": "17b93539",
   "metadata": {},
   "outputs": [
    {
     "name": "stdout",
     "output_type": "stream",
     "text": [
      "<class 'pandas.core.frame.DataFrame'>\n",
      "RangeIndex: 568630 entries, 0 to 568629\n",
      "Data columns (total 31 columns):\n",
      " #   Column  Non-Null Count   Dtype  \n",
      "---  ------  --------------   -----  \n",
      " 0   id      568630 non-null  int64  \n",
      " 1   V1      568630 non-null  float64\n",
      " 2   V2      568630 non-null  float64\n",
      " 3   V3      568630 non-null  float64\n",
      " 4   V4      568630 non-null  float64\n",
      " 5   V5      568630 non-null  float64\n",
      " 6   V6      568630 non-null  float64\n",
      " 7   V7      568630 non-null  float64\n",
      " 8   V8      568630 non-null  float64\n",
      " 9   V9      568630 non-null  float64\n",
      " 10  V10     568630 non-null  float64\n",
      " 11  V11     568630 non-null  float64\n",
      " 12  V12     568630 non-null  float64\n",
      " 13  V13     568630 non-null  float64\n",
      " 14  V14     568630 non-null  float64\n",
      " 15  V15     568630 non-null  float64\n",
      " 16  V16     568630 non-null  float64\n",
      " 17  V17     568630 non-null  float64\n",
      " 18  V18     568630 non-null  float64\n",
      " 19  V19     568630 non-null  float64\n",
      " 20  V20     568630 non-null  float64\n",
      " 21  V21     568630 non-null  float64\n",
      " 22  V22     568630 non-null  float64\n",
      " 23  V23     568630 non-null  float64\n",
      " 24  V24     568630 non-null  float64\n",
      " 25  V25     568630 non-null  float64\n",
      " 26  V26     568630 non-null  float64\n",
      " 27  V27     568630 non-null  float64\n",
      " 28  V28     568630 non-null  float64\n",
      " 29  Amount  568630 non-null  float64\n",
      " 30  Class   568630 non-null  int64  \n",
      "dtypes: float64(29), int64(2)\n",
      "memory usage: 134.5 MB\n"
     ]
    }
   ],
   "source": [
    "data_import.info()"
   ]
  },
  {
   "cell_type": "markdown",
   "metadata": {},
   "source": [
    " ## setting dataframe, features and training & testing factors for model"
   ]
  },
  {
   "cell_type": "code",
   "execution_count": null,
   "metadata": {},
   "outputs": [],
   "source": []
  },
  {
   "cell_type": "code",
   "execution_count": 4,
   "metadata": {},
   "outputs": [],
   "source": [
    "df = data_import.drop('id' , axis = 1)"
   ]
  },
  {
   "cell_type": "code",
   "execution_count": 5,
   "metadata": {},
   "outputs": [],
   "source": [
    "features = df.drop('Class' , axis = 1)\n",
    "label = df['Class']"
   ]
  },
  {
   "cell_type": "code",
   "execution_count": 6,
   "metadata": {},
   "outputs": [
    {
     "name": "stdout",
     "output_type": "stream",
     "text": [
      "x train shape : (454904, 29)\n",
      "y train shape : (454904,)\n",
      "x test shape : (113726, 29)\n",
      "y test shape : (113726,)\n"
     ]
    }
   ],
   "source": [
    "x_train , x_test , y_train , y_test = train_test_split(features , label , test_size = 0.2 , stratify = label , random_state = 42)\n",
    "print(f\"x train shape : {x_train.shape}\\ny train shape : {y_train.shape}\\nx test shape : {x_test.shape}\\ny test shape : {y_test.shape}\")"
   ]
  },
  {
   "cell_type": "markdown",
   "metadata": {},
   "source": [
    "# Training the model"
   ]
  },
  {
   "cell_type": "code",
   "execution_count": 7,
   "metadata": {},
   "outputs": [],
   "source": [
    "lr_pipe = Pipeline(steps = [\n",
    "    ('scaler' , StandardScaler()),\n",
    "    ('Logistic Regression' , LogisticRegression())\n",
    "])\n",
    "\n",
    "tree_pipe = Pipeline(steps = [\n",
    "    ('scaler' , StandardScaler()),\n",
    "    ('Decision Tree' , DecisionTreeClassifier())\n",
    "])\n",
    "\n",
    "forest_pipe = Pipeline(steps = [\n",
    "    ('scaler' , StandardScaler()),\n",
    "    ('Random Forest' , RandomForestClassifier()) \n",
    "])\n",
    "\n",
    "ada_pipe = Pipeline(steps = [\n",
    "    ('scaler' , StandardScaler()),\n",
    "    ('AdaBoost' , AdaBoostClassifier())\n",
    "])\n",
    "\n",
    "gradient_pipe = Pipeline(steps = [\n",
    "    ('scaler' , StandardScaler()),\n",
    "    ('Gradient Boosting' , GradientBoostingClassifier())\n",
    "])\n",
    "\n",
    "svc_pipe = Pipeline(steps = [\n",
    "    ('scaler' , StandardScaler()),\n",
    "    ('Support Vector Machines', SVC())\n",
    "])\n",
    "\n",
    "\n",
    "linear_svc_pipe = Pipeline(steps = [\n",
    "    ('Linear Support Vector Machines ' , LinearSVC())\n",
    "])"
   ]
  },
  {
   "cell_type": "code",
   "execution_count": 8,
   "metadata": {},
   "outputs": [],
   "source": [
    "main_pipeline = [lr_pipe , tree_pipe , forest_pipe , ada_pipe , gradient_pipe , svc_pipe , linear_svc_pipe]\n",
    "Models = ['Logistic Regression Classifier', 'Decision Tree Classifier' , 'Random Forest Classifier' , 'AdaBoosting Classifier' , 'Gradient Boosting Classifier' , 'SVC Classifier' , 'Linear SVC Classifier']"
   ]
  },
  {
   "cell_type": "code",
   "execution_count": null,
   "metadata": {},
   "outputs": [],
   "source": [
    "for pipe in main_pipeline : \n",
    "    pipe.fit(x_train , y_train)"
   ]
  },
  {
   "cell_type": "markdown",
   "metadata": {},
   "source": [
    "# All the tests Accuracy Score"
   ]
  },
  {
   "cell_type": "code",
   "execution_count": null,
   "metadata": {},
   "outputs": [
    {
     "name": "stdout",
     "output_type": "stream",
     "text": [
      "Pipeline(steps=[('scaler', StandardScaler()),\n",
      "                ('Logistic Regression', LogisticRegression())]) , test scoree : 0.9649596398360973\n",
      "Pipeline(steps=[('scaler', StandardScaler()),\n",
      "                ('Decision Tree', DecisionTreeClassifier())]) , test scoree : 0.9976962172238538\n",
      "Pipeline(steps=[('scaler', StandardScaler()),\n",
      "                ('Random Forest', RandomForestClassifier())]) , test scoree : 0.9998329317834093\n",
      "Pipeline(steps=[('scaler', StandardScaler()),\n",
      "                ('AdaBoost', AdaBoostClassifier())]) , test scoree : 0.9695759984524207\n",
      "Pipeline(steps=[('scaler', StandardScaler()),\n",
      "                ('Gradient Boosting', GradientBoostingClassifier())]) , test scoree : 0.9792923342067777\n",
      "Pipeline(steps=[('scaler', StandardScaler()),\n",
      "                ('Support Vector Machines', SVC())]) , test scoree : 0.9970807027416774\n",
      "Pipeline(steps=[('Linear Support Vector Machines ', LinearSVC())]) , test scoree : 0.7463904472152366\n"
     ]
    }
   ],
   "source": [
    "for index,val in enumerate(main_pipeline) : \n",
    "    print(f\"{main_pipeline[index]} , test scoree : {val.score(x_test,y_test)}\")"
   ]
  },
  {
   "cell_type": "markdown",
   "metadata": {},
   "source": [
    "since random forest has maximum accuracy"
   ]
  },
  {
   "cell_type": "code",
   "execution_count": null,
   "metadata": {},
   "outputs": [
    {
     "name": "stdout",
     "output_type": "stream",
     "text": [
      "Accuracy Score using Random Forest Classifier : 0.9998329317834093\n"
     ]
    }
   ],
   "source": [
    "y_pred = forest_pipe.predict(x_test)\n",
    "print(f\"Accuracy Score using Random Forest Classifier : {accuracy_score(y_test,y_pred)}\")"
   ]
  },
  {
   "cell_type": "markdown",
   "metadata": {},
   "source": [
    "# Confusion Matrix"
   ]
  },
  {
   "cell_type": "code",
   "execution_count": null,
   "metadata": {},
   "outputs": [
    {
     "data": {
      "text/plain": [
       "Text(33.0, 0.5, 'Actual Values')"
      ]
     },
     "execution_count": 25,
     "metadata": {},
     "output_type": "execute_result"
    },
    {
     "data": {
      "image/png": "[encoded data removed]",
      "text/plain": [
       "<Figure size 432x288 with 2 Axes>"
      ]
     },
     "metadata": {
      "needs_background": "light"
     },
     "output_type": "display_data"
    }
   ],
   "source": [
    "matrix = confusion_matrix(y_test , y_pred)\n",
    "\n",
    "sns.heatmap(matrix , annot = True , fmt = '0.2f')\n",
    "plt.title(\"Confusion Matrix\")\n",
    "plt.xlabel(\"Predicted Values\")\n",
    "plt.ylabel(\"Actual Values\")"
   ]
  },
  {
   "cell_type": "code",
   "execution_count": null,
   "metadata": {},
   "outputs": [
    {
     "name": "stdout",
     "output_type": "stream",
     "text": [
      "Classification Report :               precision    recall  f1-score   support\n",
      "\n",
      "           0       1.00      1.00      1.00     56863\n",
      "           1       1.00      1.00      1.00     56863\n",
      "\n",
      "    accuracy                           1.00    113726\n",
      "   macro avg       1.00      1.00      1.00    113726\n",
      "weighted avg       1.00      1.00      1.00    113726\n",
      "\n"
     ]
    }
   ],
   "source": [
    "print(f\"Classification Report : {classification_report(y_test , y_pred)}\")"
   ]
  }
 ],
 "metadata": {
  "kernelspec": {
   "display_name": "Python 3",
   "language": "python",
   "name": "python3"
  },
  "language_info": {
   "codemirror_mode": {
    "name": "ipython",
    "version": 3
   },
   "file_extension": ".py",
   "mimetype": "text/x-python",
   "name": "python",
   "nbconvert_exporter": "python",
   "pygments_lexer": "ipython3",
   "version": "3.7.3"
  }
 },
 "nbformat": 4,
 "nbformat_minor": 5
}
